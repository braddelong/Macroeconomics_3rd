{
 "cells": [
  {
   "cell_type": "code",
   "execution_count": null,
   "metadata": {},
   "outputs": [],
   "source": []
  },
  {
   "cell_type": "markdown",
   "metadata": {},
   "source": [
    "## <font color=\"880000\"> Solow Growth Model </font>\n",
    "\n",
    "Factor accumulation:\n",
    "\n",
    ">(1) $ \\frac{dL_t}{dt} = nL_t $\n",
    "\n",
    ">(2) $ \\frac{dE_t}{dt} = gE_t $\n",
    "\n",
    ">(3) $ \\frac{dK_t}{dt} = sY_t - δK_t $\n",
    "\n",
    "Production function:\n",
    "\n",
    ">(4) $ Y_t = K_t^α(L_tE_t)^{(1-α)} $\n",
    "\n",
    "Definition of capital-output ratio:\n",
    "\n",
    ">(5) $ κ_t = \\frac{K_t}{Y_t} $"
   ]
  },
  {
   "cell_type": "markdown",
   "metadata": {},
   "source": [
    "Solving for the rate of change of the capital-output ratio:\n",
    "\n",
    ">(6) $ Y_t = κ_t^{(α/(1-α))}(L_tE_t) $\n",
    "\n",
    ">(7) $ \\frac{1}{K_t}\\frac{dK_t}{dt} = \\frac{s}{κ_t} - δ $\n",
    "\n",
    ">(8) $ \\frac{1}{Y_t}\\frac{dY_t}{dt} = α \\left( \\frac{1}{K_t}\\frac{dK_t}{dt} \\right) + (1-α)(n+g) $\n",
    "\n",
    ">(9) $ \\frac{1}{κ_t}\\frac{dκ_t}{dt} = \\frac{1}{K_t}\\frac{dK_t}{dt} - α \\left( \\frac{1}{K_t}\\frac{dK_t}{dt} \\right) - (1-α)(n+g) $\n",
    "\n",
    ">(10) $ \\frac{1}{κ_t}\\frac{dκ_t}{dt} =  (1- α) \\left( \\frac{1}{K_t}\\frac{dK_t}{dt}  \\right) - (1-α)(n+g) $\n",
    "\n",
    ">(11) $ \\frac{1}{κ_t}\\frac{dκ_t}{dt} =  (1- α) \\left( \\frac{s}{κ_t} - δ  \\right) - (1-α)(n+g) $\n",
    "\n",
    ">(12) $ \\frac{dκ_t}{dt} =  (1- α) \\left( s - (n+g+δ)κ_t  \\right) $"
   ]
  },
  {
   "cell_type": "markdown",
   "metadata": {},
   "source": [
    "Resource scarcity and efficiency-of-labor growth:\n",
    "\n",
    ">(13) $ g_t = h - \\frac{n_t}{\\gamma} $\n",
    "\n",
    "Malthusian population growth:\n",
    "\n",
    ">(14) $ y_t = \\frac{Y_t}{L_t} $\n",
    "\n",
    ">(15) $ n_t = \\beta ( y_t - y_{sub} ) $ if $ y_t < y_{dem} $\n",
    "\n",
    "(In future models we will also have:\n",
    "\n",
    ">(16) $ n_{max} = \\beta ( y_{dem} - y_{sub} ) $\n",
    "\n",
    ">(17) $ n_t = n_{max}\\left(\\frac{y_t}{y_{dem}} \\right)^{-\\eta} $  if $ y_t > y_{dem} $ )"
   ]
  },
  {
   "cell_type": "markdown",
   "metadata": {},
   "source": [
    "Substituting into (12):\n",
    "\n",
    ">(18) $ \\frac{dκ_t}{dt} =  (1- α) \\left( s - \\left( \\left(\\frac{\\gamma-1}{\\gamma}\\right)n_t + h + δ \\right) κ_t  \\right) $\n",
    "\n",
    "And recall from (6):\n",
    "\n",
    ">(19) $ \\frac{d\\ln(Y_t)}{dt} = \n",
    "\\left(\\frac{α}{1-α}\\right) \\frac{d\\ln(\\kappa_t)}{dt} +\n",
    "\\left(\\frac{\\gamma-1}{\\gamma} \\right) n_t +\n",
    "h $\n",
    "\n",
    "and:\n",
    "\n",
    ">(20) $ \\frac{d\\ln(y_t)}{dt} = \n",
    "\\left(\\frac{α}{1-α}\\right) \\frac{d\\ln(\\kappa_t)}{dt} -\n",
    "\\frac{n_t}{\\gamma} +\n",
    "h $\n",
    "\n",
    "And recall the Malthusian branch of the population growth equation:\n",
    "\n",
    ">(15) $ n_t = \\beta ( y_t - y_{sub} ) $ if $ y_t < y_{dem} $"
   ]
  },
  {
   "cell_type": "markdown",
   "metadata": {},
   "source": [
    "We could (and will) simulate (18), (20), and (21). But first let's look for the equilibrium in which the rate of efficiency-of-labor growth $ g $ is constant at 0:\n",
    "\n",
    ">(21) $ g_t = 0 $ if and only if $ n^{*mal} = \\gamma h $\n",
    "\n",
    "In this Malthusian equilibrium, we have:\n",
    "\n",
    ">(22) $ \\kappa^{*mal} = \\frac{s}{\\gamma h + \\delta} $\n",
    "\n",
    ">(23) $ n^{*mal} = \\beta ( y^{*mal} - y_{sub} ) $\n",
    "\n",
    ">(24) $ y^{*mal} = y_{sub} + \\frac{n^{*mal}}{\\beta} = y_{sub} + \\frac{\\gamma h}{\\beta} $\n",
    "\n",
    "And from:\n",
    "\n",
    ">(25) $ y_t = \\left( \\kappa_t \\right)^{\\alpha/(1-\\alpha)}E_t $\n",
    "\n",
    ">(26) $ E_t = H_t (L_t)^{-1/\\gamma} $\n",
    "\n",
    "We can get:\n",
    "\n",
    ">(26) $ y^{*mal} = \\left( \\kappa^{*mal} \\right)^{\\alpha/(1-\\alpha)}E^{*mal} = \\left( \\kappa^{*mal} \\right)^{\\alpha/(1-\\alpha)} H_t (L_t^{*mal})^{-1/\\gamma}$"
   ]
  }
 ],
 "metadata": {
  "kernelspec": {
   "display_name": "",
   "name": ""
  },
  "language_info": {
   "name": ""
  }
 },
 "nbformat": 4,
 "nbformat_minor": 4
}
