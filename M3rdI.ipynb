{
 "cells": [
  {
   "cell_type": "markdown",
   "metadata": {},
   "source": [
    "# <font color = \"880000\"> DeLong and Olney Macroeconomics 3rd Edition </font>"
   ]
  },
  {
   "cell_type": "code",
   "execution_count": null,
   "metadata": {},
   "outputs": [],
   "source": [
    "# Setting up the computing environment"
   ]
  },
  {
   "cell_type": "code",
   "execution_count": 1,
   "metadata": {
    "tags": [
     "hide_input"
    ]
   },
   "outputs": [],
   "source": [
    "# keep output cells from shifting to autoscroll..."
   ]
  },
  {
   "cell_type": "code",
   "execution_count": 2,
   "metadata": {
    "tags": [
     "hide_input"
    ]
   },
   "outputs": [
    {
     "data": {
      "application/javascript": [
       "\n",
       "IPython.OutputArea.prototype._should_scroll = function(lines) {return false;}\n"
      ],
      "text/plain": [
       "<IPython.core.display.Javascript object>"
      ]
     },
     "metadata": {},
     "output_type": "display_data"
    }
   ],
   "source": [
    "%%javascript  \n",
    "\n",
    "IPython.OutputArea.prototype._should_scroll = function(lines) {return false;}"
   ]
  },
  {
   "cell_type": "code",
   "execution_count": 3,
   "metadata": {},
   "outputs": [],
   "source": [
    "# initialization\n",
    "\n",
    "from delong_functions.initialization import *"
   ]
  },
  {
   "cell_type": "code",
   "execution_count": 4,
   "metadata": {},
   "outputs": [],
   "source": [
    "%matplotlib inline "
   ]
  },
  {
   "cell_type": "code",
   "execution_count": null,
   "metadata": {},
   "outputs": [],
   "source": [
    "# Now: the textbook, with calculations interleaved..."
   ]
  },
  {
   "cell_type": "markdown",
   "metadata": {
    "slideshow": {
     "slide_type": "slide"
    }
   },
   "source": [
    "# <font color=\"880000\"> Section I. Orientation </font>\n",
    "\n",
    "## <font color=\"880000\"> Introduction (REV) </font>\n",
    "\n",
    "<div width=\"400\" style=\"float:right; border-style: solid; border-width: 1px;\"><img src=\"https://www.evernote.com/l/AAEN3E5W6jpA9YXQmPic7podiVvv7rmPo8MB/image.png\" style=\"float:right;\" width=\"400\" />\n",
    "<br clear=\"all\">\n",
    "<div width=\"400\" style=\"float:right;\">\n",
    "\n",
    "**Source**: <https://research.stlouisfed.org/dashboard/38603>\n",
    "    \n",
    "> The Federal Reserve Bank of St. Louis maintains    \n",
    "> the FRED database, found on the internet at    \n",
    "> <https://fred.stlouisfed.org>. It is certainly       \n",
    "> one of the best and easiest to use places to     \n",
    "> find statistical data on the present and past    \n",
    "> of the economy.\n",
    "    \n",
    "</div>\n",
    "</div>\n",
    "\n",
    "\n",
    "\n",
    "What is macroeconomics? \n",
    "\n",
    "Macroeconomics is a discipline—not quite a _real_ science. It provides insights into the state and functioning of the economy considered as a whole. Macroeconomics is not the study of individual consuming households, workers, producing and employing businesses, or even single industries. Macroeconomics studies total economic activity—how many people are employed, why the overall price level rises (and, rarely, falls) and at what rate, and what determines the level and rate of growth (and, sometimes, rate of decline) of total production. That went by quickly. The first three chapters of this book go over this again. They are the first part of the book, and they provide an overview:\n",
    "\n",
    "**Chapter 1** is the basic guide to the major landmarks. It tells you what the paragraph above means. \n",
    "\n",
    "**Chapter 2** tells you what macroeconomists know about how the macroeconomy is working, and thus what are the quantities and happenings that macroeconomists theorize about. What indicators of how the macroeconomy is working do macroeconomists have? What indicators do they focus on? How do these indicators fit together? These questions need to be answered before we can properly begin.\n",
    "\n",
    "**Chapter 3** is: \"Thinking Like an Economist\". Every subject has its own particular patterns of thought and fundamental assumptions—things that make it a separate and distinct pattern of thought, things that make it a \"discipline\": something special and particular, and worth learning. \n",
    "\n",
    "Long experience, however, has taught us economists that our patterns of thought seem to be further from norma! day-to-day experience than are those of many other disciplines. We economists believe we have a very productive and insightful way of looking at the world. But we recognize that it is different from common sense, and sometimes very different. Thus to learn economics is to learn something genuinely new. \n",
    "    \n",
    "We hope you will find that something instructive, and interesting. \n",
    "\n",
    "Therefore chapter 3 offers a brief introduction to the far-from-usual way that we economists think: our concepts like \"opportunity cost\", \"equilibrium\", and \"rational expectations\"; our building of economic models; and our use of graphs and equations as intellectual force multipliers.\n",
    "    \n",
    "&nbsp;\n",
    "\n",
    "&nbsp;"
   ]
  },
  {
   "cell_type": "markdown",
   "metadata": {},
   "source": [
    "----\n",
    "\n",
    "&nbsp;\n",
    "\n",
    "## <font color=\"880000\">DeLong and Olney Macroeconomics 3rd Edition </font>\n",
    "\n",
    "<img src=\"https://tinyurl.com/20190119a-delong\" width=\"300\" style=\"float:right\" />\n",
    "\n",
    "### <font color=\"000088\">Catch Our Breath—Further Notes:</font>\n",
    "\n",
    "<br clear=\"all\" />\n",
    "\n",
    "----\n",
    "\n",
    "* Weblog Support <https://github.com/braddelong/LS2019/blob/master/Macroeconomics_3rd/M3rdI.ipynb>\n",
    "* nbViewer <https://nbviewer.jupyter.org/github.com/braddelong/LS2019/blob/master/Macroeconomics_3rd/M3rdI.ipynb>\n",
    "\n",
    "&nbsp;\n",
    "\n",
    "----"
   ]
  }
 ],
 "metadata": {
  "kernelspec": {
   "display_name": "Python 3",
   "language": "python",
   "name": "python3"
  },
  "language_info": {
   "codemirror_mode": {
    "name": "ipython",
    "version": 3
   },
   "file_extension": ".py",
   "mimetype": "text/x-python",
   "name": "python",
   "nbconvert_exporter": "python",
   "pygments_lexer": "ipython3",
   "version": "3.6.7"
  }
 },
 "nbformat": 4,
 "nbformat_minor": 4
}
