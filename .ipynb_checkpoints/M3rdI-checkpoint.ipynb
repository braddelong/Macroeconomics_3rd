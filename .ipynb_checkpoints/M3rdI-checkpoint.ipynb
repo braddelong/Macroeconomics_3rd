{
 "cells": [
  {
   "cell_type": "markdown",
   "metadata": {},
   "source": [
    "# <font color = \"880000\"> **DeLong and Olney Macroeconomics 3rd Edition** </font>\n",
    "\n",
    "Last edited: 2019-08-17"
   ]
  },
  {
   "cell_type": "code",
   "execution_count": null,
   "metadata": {},
   "outputs": [],
   "source": [
    "# Setting up the computing environment"
   ]
  },
  {
   "cell_type": "code",
   "execution_count": 1,
   "metadata": {
    "tags": [
     "hide_input"
    ]
   },
   "outputs": [],
   "source": [
    "# keep output cells from shifting to autoscroll..."
   ]
  },
  {
   "cell_type": "code",
   "execution_count": 2,
   "metadata": {
    "tags": [
     "hide_input"
    ]
   },
   "outputs": [
    {
     "data": {
      "application/javascript": [
       "\n",
       "IPython.OutputArea.prototype._should_scroll = function(lines) {return false;}\n"
      ],
      "text/plain": [
       "<IPython.core.display.Javascript object>"
      ]
     },
     "metadata": {},
     "output_type": "display_data"
    }
   ],
   "source": [
    "%%javascript  \n",
    "\n",
    "IPython.OutputArea.prototype._should_scroll = function(lines) {return false;}"
   ]
  },
  {
   "cell_type": "code",
   "execution_count": 3,
   "metadata": {},
   "outputs": [],
   "source": [
    "# initialization\n",
    "\n",
    "from delong_functions.initialization import *"
   ]
  },
  {
   "cell_type": "code",
   "execution_count": 4,
   "metadata": {},
   "outputs": [],
   "source": [
    "%matplotlib inline "
   ]
  },
  {
   "cell_type": "code",
   "execution_count": null,
   "metadata": {},
   "outputs": [],
   "source": [
    "# Now: the textbook, with calculations interleaved..."
   ]
  },
  {
   "cell_type": "markdown",
   "metadata": {},
   "source": [
    "# <font color=\"880000\"> Section I. Orientation </font>\n",
    "\n",
    "## <font color=\"880000\"> Introduction </font>\n",
    "\n",
    "What is macroeconomics? \n",
    "\n",
    "Macroeconomics is a discipline—not quite a _real_ science. It provides insights into the state and functioning of the economy considered as a whole. Macroeconomics is not the study of individual consuming households, workers, producing and employing businesses, or even single industries. Macroeconomics studies total economic activity—how many people are employed, why the overall price level rises (and, rarely, falls) and at what rate, and what determines the level and rate of growth (and, sometimes, rate of decline) of total production. That went by quickly. The first three chapters of this book go over this again. They are the first part of the book, and they provide an overview:\n",
    "\n",
    "**Chapter 1** is the basic guide to the major landmarks. It tells you what the paragraph above means. \n",
    "\n",
    "**Chapter 2** tells you what macroeconomists know about how the macroeconomy is working, and thus what are the quantities and happenings that macroeconomists theorize about. What indicators of how the macroeconomy is working do macroeconomists have? What indicators do they focus on? How do these indicators fit together? These questions need to be answered before we can properly begin.\n",
    "\n",
    "**Chapter 3** is: \"Thinking Like an Economist\". Every subject has its own particular patterns of thought and fundamental assumptions—things that make it a separate and distinct pattern of thought, things that make it a \"discipline\": something special and particular, and worth learning. \n",
    "\n",
    "Long experience, however, has taught us economists that our patterns of thought seem to be further from norma! day-to-day experience than are those of many other disciplines. We economists believe we have a very productive and insightful way of looking at the world. But we recognize that it is different from common sense, and sometimes very different. Thus to learn economics is to learn something genuinely new. \n",
    "    \n",
    "We hope you will find that something instructive, and interesting. \n",
    "\n",
    "Therefore chapter 3 offers a brief introduction to the far-from-usual way that we economists think: our concepts like \"opportunity cost\", \"equilibrium\", and \"rational expectations\"; our building of economic models; and our use of graphs and equations as intellectual force multipliers.\n",
    "    \n",
    "&nbsp;\n",
    "\n",
    "----"
   ]
  },
  {
   "cell_type": "markdown",
   "metadata": {},
   "source": [
    "### <font color=\"000088\"> I.a. What Is Macroeconomics? </font>\n",
    "\n",
    "<div style=\"float:right;\" width=\"400\" >\n",
    "\n",
    "<img src=\"https://www.evernote.com/l/AAF_WP9Xv4BG9JvKJNabHAnLs3zYlhbGy4YB/image.png\" style=\"float:right;\" width=\"400\" />\n",
    "    \n",
    "<br clear=\"all\" />\n",
    "\n",
    "**Source**: <https://research.stlouisfed.org/dashboard/38603>\n",
    "    \n",
    "The Federal Reserve Bank of St. Louis maintains the FRED     \n",
    "database, found at <https://fred.stlouisfed.org>. Without      \n",
    "a doubt, it is the best and easiest-to-use place to find    \n",
    "statistical data on the present and past of the economy.\n",
    "    \n",
    "</div>\n",
    "    \n",
    "Here we have six key views of the American macroeconomy.\n",
    "    \n",
    "The top-left panel shows what fraction of Americans 25-54—too old for large numbers to still be in school and too young for large numbers to be retired—say that they have paid jobs. \n",
    "    \n",
    "The center-left panel shows how large, controlling and adjusting for inflation that raises the general price level over time, is the average value of marketed goods and services produced per worker. \n",
    "    \n",
    "The bottom-left panel shows the inflation rate: how fast the general level of prices is rising—it shows both the general inflation rate, and, as a better measure of inflation trends, the rate excluding volatile food and energy prices that tend to jump up or down but then reverse themselves.\n",
    "\n",
    "The top-right panel shows how much it costs to borrow money from the U.S. Treasury, short-term for three months, medium-term for two years, and long-term for ten years; plus the long-term Treasury borrowing rate corrected for inflation. \n",
    "\n",
    "The center-right panel shows the inflation-adjusted exchange rate: how much of the products of other countries we can purchase and import per each unit of what we export. And the bottom-right panel shows the inflation-adjusted value of the stock market: how much it costs to buy a slice of    \n",
    "ownership in America's corporations, and thus the right to receive that slice of their profits.\n",
    "    \n",
    "&nbsp;\n",
    "    \n",
    "----"
   ]
  },
  {
   "cell_type": "markdown",
   "metadata": {},
   "source": [
    "# <font color=\"880000\"> **Chapter 1. Introduction to Macroeconomics** </font>\n",
    "\n",
    "#### <font color=\"008800\"> Chapter Heading Questions:</font>\n",
    "\n",
    "1. How many of the businesses we work for vanish, as demand for the products they make dries up?\n",
    "2. How many of the businesses we work for vanish, as they are outcompeted by more efficient firms?\n",
    "3. How many of us will have jobs next year?\n",
    "4. Will changing jobs be easy or hard next year? \n",
    "5. How many of us will have jobs in ten years?\n",
    "6. Will changing jobs be easy or hard in ten years? \n",
    "7. How much richer or poorer will will we be next year?\n",
    "8. How much richer or poorer will will we be in ten years?\n",
    "9. How much richer will our children be than our grandparents were?\n",
    "10. How much richer are we now than our parents were at our age?\n",
    "\n",
    "&nbsp;\n",
    "\n",
    "----"
   ]
  },
  {
   "cell_type": "markdown",
   "metadata": {},
   "source": [
    "## <font color=\"880000\"> 1.1. Overview </font>\n",
    "\n",
    "### <font color=\"000088\"> 1.1.1. What is Macroeconomics? </font>\n",
    "\n",
    "If you can form reasonable answers to the ten questions that head this chapter, then you know macroeconomics. Why? The answers to all of these depend on what is happening to the economy as a whole, the economy in the large, the macroeconomy. “Macro” is, after all, nothing but a prefix meaning “large”. Thus macroeconomics is the branch of economics related to the economy as a whole. Its principal tasks are:\n",
    "\n",
    "* First, macroeconomists’ principal task is to try to figure out why overall economic activity rises and falls. Why are measures like the total value of all production and the total income of workers and property owners—**national income**—higher in some yearts than in others?\n",
    "\n",
    "* Second, why is the share of people employed—the **employment rate**—and the share of people who want jobs but do not have them—the **unemployment rate**—higher and lower in some years than in others?\n",
    "\n",
    "* Third, how easy or hard do people find it to change jobs—either as they no longer think the job suits them, and quit to find another one or to do something else; or as the firm they work for either itself disappears, decides it can no longer afford to have as many workers, or decides that it on longer suits it to employ a particular worker?\n",
    "\n",
    "Successful macroeconomics accomplishes—or, rather, delimits our limited ability given ignorance, uncertainty, and time to accomplish—these three tasks, and so provides ther best answers we can give to the ten chapter-heading questions above.\n",
    "\n",
    "In, so doing, it has to accomplish other, related tasks necessary to accomplish these three main ones:\n",
    "\n",
    "* Fourth, macroeconomists also attempt to understand what determines the level and rate of change of overall prices. The proportional rate of change in the price level has a name: the **inflation rate**.\n",
    "\n",
    "* Fifth:, international macroeconomist attempt to understand the terms on which we buy and sell goods and services to and from the inhabitants of other countries: why is the level of this **exchange rate** what it is? And why does this exchange rate fluctuate?\n",
    "\n",
    "* Sith, the prices of and the income received by holding on to **financial assets** is a principal determinant of the levels and peerhaps the principal determinant of fluctuations in the above macroeconomic variables: production and income, employment and unemployment, prices and inflation, and the xexchange rate. The **interest rates** that measure the income received by holding on to **bonds** and the **stock-market values** at which ownership of companies and of their profits are bought and sold are the final object of principal concern.\n",
    "\n",
    "Total economy-wide production and income, employment and unemployment, prices and inflation, exchange rates, and interst rates and asset values and returns: those five sets of measurements of aspects of the macroeconomy are at the heart of the discipline of macroeconomics.\n",
    "\n",
    "&nbsp;\n",
    "\n",
    "----"
   ]
  },
  {
   "cell_type": "markdown",
   "metadata": {},
   "source": [
    "### <font color=\"000088\"> 1.1.2. Why Macroeconomics Matters </font>\n",
    "\n",
    "Why does macroeconomics matter? Why should we care about the questions at the start of this chapter that are at the heart of macroeconomics? There are at least three reasons:\n",
    "\n",
    "&nbsp;\n",
    "\n",
    "#### <font color=\"008800\"> 1.1.2.1. Cultural Literacy </font>\n",
    "\n",
    "First, macroeconomics is a matter of cultural literacy. Much discussion in newspapers, on television, and at parties concerns the macroeconomy. This should not be surprising: The twentieth-century U.S. economy was, all in all, extraordinarily successful. Today we are on average some 50 percent richer than our parents were when they were our age. If economic growth continues at its recent pace, our children may be five or more times as rich as our grandparents were.\n",
    "\n",
    "Our modern industrial economy has delivered increases in material prosperity and living standards that no previous generation ever saw. This increasing material prosperity means that the economy has a cultural salience today that it did not have in previous centuries, when productivity was stagnant and material standards of living improved only as fast as a glacier moves.\n",
    "\n",
    "Thus, if you want to follow and participate in public debates and discussions, you need to know about macroeconomics. \n",
    "\n",
    "If you don’t, you won’t understand news reports on changes in the economy.\n",
    "\n",
    "&nbsp;\n",
    "\n",
    "#### <font color=\"008800\"> 1.1.2.2. Self-Interest </font>\n",
    "\n",
    "A second (and more important) reason to care about macroeconomics is that the macroeconomy matters to you personally. Each of us is inter  ested in particular issues in microeconomics. Farmers and bakers are interested in the price of wheat; computer manufacturers and users are interested in the price of microprocessors; and economics professors are very interested in the price of economics professors. What happens in these individual markets—for wheat, for microprocessors, and for economics professors—shapes the lives of farmers, bakers, computer programmers, and economics professors.\n",
    "\n",
    "What happens in the macroeconomy shapes everyone’s life. A rise in inflation is sure to enrich debtors (people who have borrowed) and impoverish creditors (people who have lent money to others). An expanding economy will make real incomes rise. A deep recession will increase unemployment and make those who lose their jobs have a hard time finding others. Your bargaining power vis-a-vis your employer (or, on the other side of the table, your bargaining power vis-a-vis your employees) depends on the phase of the business cycle.\n",
    "\n",
    "Though you cannot control the macroeconomy, you can understand how it affects your opportunities. To some degree, forewarned is forearmed: Whether or not you understand your opportunities may depend on how much attention you pay in this course. The macroeconomy is not destiny: Some people do very well in their jobs and businesses in a recession, and many do badly in a boom. Never  theless, it is a powerful influence on individual well-being. To paraphrase Russian revolutionary Leon Trotsky, you may not be interested in the macroeconomy, but the macroeconomy is interested in you.\n",
    "\n",
    "&nbsp;\n",
    "\n",
    "#### <font color=\"008800\"> 1.1.2.3. Civic Responsibility </font>\n",
    "\n",
    "A third important reason to care about macroeconomics is that by working together we can improve the macroeconomy. Our right to vote is one of the most precious rights human beings have ever had. In electing our government, we indirectly make macroeconomic policy. As we will see in the next section, the gov  ernment’s macroeconomic policy matters because it can accelerate (or decelerate) long-run economic growth and stabilize (or destabilize) the short-run business cycle. In election after election, candidates will present themselves and seek your vote. Those who win will try to manage the macroeconomy. \n",
    "\n",
    "If you are not literate in macroeconomics, you won’t be able to distinguish the candidates who might become effective macroeconomic managers from those who are clueless or cynical, promising more than they can deliver. And you need to, for many politicians cynically overpromise, and others seek to pursue economic policies that are bad for the economy in the long run but that promise to generate good short-run news. \n",
    "\n",
    "----"
   ]
  },
  {
   "cell_type": "markdown",
   "metadata": {},
   "source": [
    "##### <font color=\"000088\"> Box 1.1.a. The Constant Flow of Economic News </font>\n",
    "\n",
    "<div style=\"float:right;\" width=\"400\" >\n",
    "<img src=\"https://www.evernote.com/l/AAEuJ4JjWUFOorSf6O-IRB-oKJ-U8ooBTfgB/image.png\" style=\"float:right;\" width=\"400\" />\n",
    "\n",
    ">**Source**: <https://www.bloomberg.com/markets/economics>\n",
    "\n",
    "</div>\n",
    "\n",
    "Economic news flows past us constantly throughout the day. The total volume of information is overwhelming. Thus one of the major problems of macroeconomics is figuring out how to process all this information—how to make sense of it, without drowning in information overload, and without throwing valuable news away:\n",
    "\n",
    "**2019-07-19 Economics**:\n",
    "\n",
    "* Fragile World Manufacturing Front and Center of Fed Rate Debate\n",
    "    * Fed's $3.8 Trillion balance Sheet Is Unlikely to Shrink More\n",
    "    * Traders Stuck Between Two Fed Options After Williams Kerfuffle\n",
    "    * Fed Officials Shake Markets with Rate Cut Comments\n",
    "* StanChart Whistleblower Says U.S. Missed Billions in Trade\n",
    "* Fed's Eric Rosengren Signals His Opposition to an Interest-Rate Cut\n",
    "* Women in Japan Fight for Their Identity—Starting with Their Name\n",
    "* Raghuram Rajan, Janet Yellen Didn't Apply to Replace Mark Carney at Bank of England\n",
    "* Stephanomics: Stephanie Flanders: The View from Paris: How Presidnet Macron Survived Les Gilets Jaunes\n",
    "* How Finland Slashed Homelessness by 40%\n",
    "* ECB Seen Priming Markets in July for Rate Cut After Summer Break\n",
    "* Central Banks See Here a Cut, There a Cut, Everywhere a Cut Cut\n",
    "* Skeptics of Trump's New NAFTA Head South of the Border\n",
    "* Mnuchin, Kudlow Invite U.S. Tech Giants to Discuss Huawei Ban\n",
    "* Goldman Says 4000 Conference Calls Show Dimmer U.S. Outlook\n",
    "* U.S., China Trade Negotiators Talk for Second Time since Truce\n",
    "* The Only Way Is Down for Central Bankers Already at Peak Rates\n",
    "\n"
   ]
  },
  {
   "cell_type": "markdown",
   "metadata": {},
   "source": [
    "#### <font color=\"000088\"> Box 1.1.b. Economic Policy and Political Popularity </font>\n",
    "\n",
    "<img src=\"https://www.evernote.com/l/AAFYCFnwHI9EFLiYI7GIoA8nTiu6OnKVTCYB/image.png\" style=\"float:right;\" height=\"400\" width=\"400\" />\n",
    "\n",
    "Politicians believe strongly that their success at the polls depends on the state of the economy. They think that fairly and unfairly they get the credit when the economy does well and suffer the blame when the economy does badly One of the most outspoken political leaders on this topic was mid-twentieth-century American politician Richard M. Nixon, who publicly blamed his defeat in the 1960 presidential election on the Eisenhower administration’s unwillingness to take action against an economic slump:\n",
    "\n",
    ">The matter was thoroughly discussed by the Cabinet.... Several of the Administration’s economic experts who attended the meeting did not share [the] bearish prognosis.... There was strong sentiment against using the spending and credit powers of the Federal Government to affect the economy, unless and until conditions clearly indicated a major recession in prospect....\n",
    "\n",
    ">I must admit that I was more sensitive politically than some of the others around the cabinet table. I knew from bitter experience how, in both 1954 and 1958, slumps which hit bottom early in October contributed to substantial Republican losses in the House and Senate.... The bottom of the 1960 dip did come in October.... The jobless rolls increased by 452,000. All the speeches, television broadcasts, and precinct work in the world could not counteract that one hard fact...\n",
    "\n",
    "Economic historians continue to dispute the causes of the “stagflation”—a com bination of relatively high inflation and relatively high unemployment—that struck the American economy in the early 1970s, after Richard Nixon finally became president: Was it the result of his manipulation of economic policy for political goals so that during his 1972 reelection campaign the economy would look better than it had in 1960?\n",
    "\n",
    "The evidence is contradictory. \n",
    "\n",
    "But no matter how much Nixon’s policy contributed to stagflation, nearly all observers agree that his major goal in ecomomic policy was not to create a healthier economy over the long term but to make the economy look good in 1972.\n",
    "\n",
    "**Source**: Richard M. Nixon (91962): _Six Crises_ (Garden City, NY: Doubleday), pp. 309-311 <http://amzn.to/2vM9nLx>\n",
    "\n",
    "&nbsp;\n",
    "\n",
    "----"
   ]
  },
  {
   "cell_type": "markdown",
   "metadata": {},
   "source": [
    "### <font color=\"000088\"> 1.1.4 Growth Policy </font>\n",
    "\n",
    "The government’s _growth policy_—what it does to accelerate or decelerate long-run economic growth—is surely the most important aspect of macroeconomic policy. \n",
    "\n",
    "Nothing matters more in the long run for the quality of life in an economy than its long-run rate of economic growth. Consider Argentina, which was once one of the most prosperous nations in the world. In 1913 its capital, Buenos Aires, was twelfth in the world in the fraction of its inhabitants who had telephones. In 1929 it was fifth in the world in the number of automobiles per capita. Yet today Argentina is classified as a “developing” country, and it has fallen far behind rich developed industrial economies like Sweden. Today's Argentineans are richer than their predecessors were at the beginning of the twentieth century. But they are not nearly as well off as they might have been, had Argentina’s economic policies been as good and its economic growth as fast as those in Sweden.\n",
    "\n",
    "Why? Overwhelmingly, the reason is: destructive economic policies have retarded Argentina’s economic growth.\n",
    "\n",
    "In Scandinavian countries like Norway and Sweden, where throughout the twentieth century economic policies were supportive of growth, the past 100 years have led to extraordinary prosperity. Today economic output per person in Scandinavia is among the highest in the world. Scandinavians today are more than fifteen times as prosperous as their predecessors were back ten years before the start of the twentieth century. Argentineans, by contrast, are only a little more than three times as prosperous as their predecessors.\n",
    "\n",
    "In the long run, nothing a government can do does more good for the economy than adopting good policies for economic growth.\n",
    "\n",
    "&nbsp;\n",
    "\n",
    "----"
   ]
  },
  {
   "cell_type": "markdown",
   "metadata": {},
   "source": [
    "##### <font color=\"000088\"> Box 1.1.c. Long-Run Measured Economic Growth: Sweden and Argentina, 1890-2017 </font>\n",
    "\n",
    "<img src=\"http://delong.typepad.com/.a/6a00e551f08003883401b8d2a9cc1f970c-pi\" alt=\"2017 08 11 DeLong and Olney Macroeconomics 3rd Edition\" title=\"2017-08-11_DeLong_and_Olney_Macroeconomics_3rd_Edition.png\" border=\"0\" width=\"400\" height=\"400\" style=\"float:right;\" />\n",
    "\n",
    "At the start of the twentieth century, Argentina was richer—and seen as having a brighter future—than Sweden. Europeans in large numbers were then migrating to Argentina, not Sweden—and Swedes were leaving their country in large numbers for greener pastures elsewhere, largely in the Americas. But economic policies that were mostly bad for long-run growth left Argentina far behind Sweden. The average Swede today looks to be more than sixteen times as well off in terms of material income as the average Swede of 1890. The average Argentinian today looks to be only between three and a third times as well off as their predecessor back in 1890.\n",
    " \n",
    "**Source**: Gapminder <http://www.gapminder.org/data/> <http://docs.google.com/spreadsheet/pub?key=phAwcNAVuyj1jiMAkmq1iMg&output=xlsx> \n",
    "\n",
    "&nbsp;\n",
    "\n",
    "----"
   ]
  },
  {
   "cell_type": "markdown",
   "metadata": {},
   "source": [
    "### <font color=\"000088\"> 1.1.5. Stabilization Policy </font>\n",
    "\n",
    "The second major branch of macroeconomic policy is the government’s _stabilization policy_. \n",
    "\n",
    "History does not show a steady, stable, smooth upward trend toward higher production and employment. Typically, levels of production and employment fluctuate above and below long-run growth trends. Production can easily rise several percentage points above the long-run trend or fall 5 percentage points or more below the trend. Unemployment can fall so low that businesses become desperate for workers and will spend much time and money training them. Or it can rise to more than 10 percent of the labor force in a deep recession, as it did in 2009.\n",
    "\n",
    "Such fluctuations in production and employment are commonly referred to as _business cycles_. Periods in which production grows and unemployment falls are called _booms_, or _macroeconomic expansions_. Periods in which production falls and unemployment rises are called _recessions_ or, worse, **depressions**. Booms are to be welcomed; recessions are to be feared.\n",
    "\n",
    "Today’s governments have powerful abilities to improve economic growth and to smooth out the business cycle by diminishing the depth of recessions and depres  sions. Good macroeconomic policy can make almost everyone’s life better; bad macroeconomic policy can make almost everyone’s life much worse. For example, policymakers’ reliance on the gold standard as the international monetary system during the Great Depression was the source of macroeconomic catastrophe and human misery. Thus the stakes that are at risk in the study of macroeconomics are high.\n",
    "\n",
    "Business-cycle fluctuations are felt not only in production and employment but also in the overall level of prices. Booms usually bring inflation, or rising prices. Recessions bring either a slowdown in the rate of inflation, or disinflation as it is called, or an absolute decline in the price level, called deflation. Interest rates, the level of the stock market, and other economic variables also rise and fall with the principal fluctuations of the business cycle.\n",
    "\n",
    "Macroeconomists often talk about growth and growth policy on the one hand and the business cycle and stabilization policy on the other hand as if they were separate and disconnected aspects of the economy. This is an oversimplification, and one that can be dangerous. Poor business cycle performance can permanently slow the pace of long-run economic growth. And expectations of poor future growth can discourage investment spending today, and so reduce capacity utilization and raise unemployment.\n"
   ]
  },
  {
   "cell_type": "markdown",
   "metadata": {},
   "source": [
    "#### <font color=\"000088\"> Box 1.1.d. The American Business Cycle 1950-2017 </font>\n",
    "\n",
    "<img src=\"http://delong.typepad.com/.a/6a00e551f08003883401bb09c2a799970d-pi\" alt=\"2017 08 11 DeLong and Olney Macroeconomics 3rd Edition\" title=\"2017-08-11_DeLong_and_Olney_Macroeconomics_3rd_Edition.png\" border=\"0\" width=\"400\" height=\"400\" style=\"float:right;\" />\n",
    "\n",
    "**Fluctuations in Total Production (Real GDP) Relative to the Long-Run Growth Trend**: Since 1950, business-cycle fluctuations have caused the level of production in the United States to fluctuate as much as 4 percent above or 8 percent below the full employment trend level of potential real GDP.\n",
    "\n",
    "The source of these estimates is the Congressional Budget Office (often abbreviated: CBO) of the United States Congress. The CBO is a non-partisan, technocratic organization established in the mid-1970s that exists to provide the members of Congress with _independent_, _non-partisan_, and _technocratic_ assessments of the likely effects on spending and revenues of different proposed legislative actions by the Congress, and also to provide the members with assessments of the likely impact—economic, sociological, biomedical, and so forth—of different proposed legislative actions.\n",
    "\n",
    "The CBO is not infallible: we, in particular, are skeptical of its current analytical conclusion that the level of national income and product in the United States in 2017 has returned very nearly to normal business-cycle levels—that there is neither an unustainable boom nor an unnecessary depression of economic activity below the trend of the its fundamental productive capacity.\n",
    "\n",
    "But the CBO tries its best to report honest rather than politically- or ideologically- or partisan-driven assessments.\n",
    "\n",
    "**Source**: Business cycle defined as the difference between real GDP and potential GDP. Real GDP estimates from the Department of Commerce's Bureau of Economic Analysis (\"BEA\"). Potential GDP estimates from the Congressional Budget Office (\"CBO\"). Data archive at the Federal Reserve Bank of St. Louis's Federal Reserve Economic Data (\"FRED\"): <https://fred.stlouisfed.org> <https://fred.stlouisfed.org/graph/?id=GDPC1,> <https://fred.stlouisfed.org/graph/?id=GDPPOT,>\n",
    "\n",
    "&nbsp;\n",
    "\n",
    "----"
   ]
  },
  {
   "cell_type": "markdown",
   "metadata": {},
   "source": [
    "#### <font color=\"000088\"> Box 1.1.e. Macroeconomic Policy and Your Quality of Life </font>\n",
    "\n",
    "At the end of 2009 the U.S. macroeconomy was in the worst shape since the Great Depression, save possibly for a brief period at the end of 1982 At the end of 2009, the unemployment rate was more than 10 percent. In an average week in late 2009, some 16 million Americans were unemployed—actively seeking work, but unable to find a job that seemed worth taking. More than 6.5 million of them had been unsuccessfully looking for a job for more than half a year. And the average household income in the United States was 6 percent below the CBO's estimate of the long-run trend.\n",
    "\n",
    "By contrast, at the end of 2000 U.S. unemployment was just 4 percent, and average household income was 2 percent above the CBO's estimate of trend. \n",
    "\n",
    "In which year would you rather have been trying to find a job?\n",
    "\n",
    "Bad macroeconomic policy makes years like 2009 and 1982 much more common than years like  2000. And reliably better macroeconomic policy could all but eliminate the prospect of years like 2009 and 1982.\n",
    "\n",
    "&nbsp;\n",
    "\n",
    "----\n",
    "\n",
    "_**Expansion**: A period when real GDP is growing._   \n",
    "_**Recession**: A fall in the level of real GDP for at least six months, or two quarters of the year._   \n",
    "_**Depression**: A very severe recession._    \n",
    "_**Commodities**: Goods and services—useful things or processes—that are bought and sold for money in the economy._   \n",
    "_**Inflation**: an ongoing increase in the overall level of the prices of commodities in terms of money; usually measured at an annual rate—that is, in percent per year._   \n",
    "_**Deflation**: The opposite of inflation: an ongoing decline in the overall level of the prices of commodities in terms of money._\n",
    "\n",
    "&nbsp;\n",
    "\n",
    "----"
   ]
  },
  {
   "cell_type": "markdown",
   "metadata": {},
   "source": [
    "### <font color=\"000088\"> 1.1.6. Macroeconomics vs. Microeconomics </font>\n",
    "\n",
    "By itself macroeconomics is only half of economics. For more than half a century economics has been divided into two branches, macroeconomics and microeconomics.\n",
    "\n",
    "**Definition**: Microeconomics: That field of economics that deals with the behavior of the individual elements in an economy with respect to the price of a single commodity and the behavior of individual households and businesses.**\n",
    "\n",
    "Macroeconomists examine the economy in the large, focusing on feedback from one component of the economy to another and studying the total level of production and employment. In contrast, microeconomics, which was probably the subject of your last economics course, deals with the economy in the small. Microeconomists study the markets for single commodities, examining the behavior of individual households and businesses. They focus on how competitive markets allocate resources to create producer and consumer surplus, as well as on how markets can go wrong.\n",
    "\n",
    "The two groups of economists also differ in their views of how markets work. Microeconomists assume that imbalances between demand and supply are resolved by changes in prices. Rises in prices bring forth additional supply, and falls in prices bring forth additional demand, until supply and demand are once again in balance. Macroeconomists consider the possibility that imbalances between supply and demand are resolved by changes in quantities rather than in prices. That is, busi  nesses may be slow to change the prices they charge, preferring instead to expand or contract production until supply balances demand. Table 1.1 summarizes these differences in approach.\n",
    "\n",
    "In every generation, economists attempt to integrate microeconomics and macro  economics by providing “microfoundations” for the macroeconomic topics of infla  tion, the business cycle, and long-run growth. But no one believes that the bridge between microeconomics and macroeconomics has yet been soundly built. Econo  mists are divided roughly evenly between those who think that the failure to suc  cessfully integrate microeconomics and macroeconomics is a flaw that urgently needs to be corrected and those who think it is a regrettable but minor annoyance. Thus less knowledge may carry over from microeconomics to macroeconomics than one might expect or hope. Be careful in trying to apply the principles and conclusions of microeconomics to macroeconomic questions—and vice versa.\n",
    "\n",
    "&nbsp;\n",
    "\n",
    "----"
   ]
  },
  {
   "cell_type": "markdown",
   "metadata": {},
   "source": [
    "#### <font color=\"000088\"> Box 1.1.f. The Two Branches of Economics: Macroeconomics and Microeconomics </font>\n",
    "\n",
    "**Macroeconomics**:\n",
    "\n",
    "1. Focus on the economy as a whole.\n",
    "2. Spend much time analyzing how total income changes and how changes in income cause changes in other modes of economic behavior.\n",
    "3. Spend a great deal of time and energy investigating how people form their expectations and change them over time.\n",
    "4. Consider the possibility that decision makers might change the quantities they produce before they change the prices they charge.\n",
    "\n",
    "**Microeconomics**:\n",
    "\n",
    "1. Focus on the markets for individual commodities and on the decisions of single economic agents.\n",
    "2. Hold the flow of total income in the economy constant.\n",
    "3. Don't worry much about how decision makers form their expectations.\n",
    "4. Assume that economic adjustment occurs first through prices that change to balance supply and demand and that only afterward do producers and consumers react to the changed prices by changing the quantities they make, buy, or sell.\n",
    "\n",
    "&nbsp;\n",
    "\n",
    "----"
   ]
  },
  {
   "cell_type": "markdown",
   "metadata": {},
   "source": [
    "### <font color=\"000088\"> 1.1.7 Overview: RECAP </font>\n",
    "\n",
    "Macroeconomics is that branch of economics related to not individual markets but the economy as a whole. The government's growth policy—what it does to accelerate or decelerate long-run economic growth—is surely the most important aspect of macroeconomic policy. Nothing matters more in the long run for the: quality of life in an economy than its long-run rate of economic growth. The second major branch of macroeconomic policy is the government’s stabilization policy. Typically, levels of production and employment fluctuate above and below long-run growth trends. Periods in which production grows and unemployment falls are called booms, or macroeconomic expansions. Periods in which production falls and unemployment rises are called recessions, or, worse, depressions.\n",
    "\n",
    "&nbsp;\n",
    "\n",
    "----\n",
    "\n",
    "**Glossary Entries**:\n",
    "\n",
    "_Macroeconomics_: The branch of economics that studies the economy as a whole: business cycles, the determinants of inflation and unemployment and long-run growth, and the effects\n",
    "of government fiscal and monetary policy\n",
    "\n",
    "_Expansion_: A period when real GDP is growing.\n",
    "\n",
    "_Recession_: A fall in the level of real GDP for at least six months, or two quarters of the year.\n",
    "\n",
    "_Depression_: A very severe recession.\n",
    "\n",
    "_Deflation_: The opposite of inflation: a decrease in the overall price level.\n",
    "\n",
    "_Microeconomics_: That field of economics that deals with the behavior of the individual elements in an economy with respect to the price of a single commodity and the behavior of individual households and businesses.\n",
    "\n",
    "&nbsp;\n",
    "\n",
    "----\n",
    "\n",
    "**Key Points**:\n",
    "\n",
    "1. Macroeconomics is the study of the economy in the large and in the whole—the determination of the economywide levels of production, employment and unemployment, and inflation or deflation, rather than of what happens in individual markets or to particular firms or households.\n",
    "2. There are three key reasons to study macroeconomics: to gain cultural literacy, to understand how economic\n",
    "trends affect you personally, and to exercise your re  sponsibility as a voter and citizen.\n",
    "3. Macroeconomics has a great deal to say about how the government should manage the economy—what economic policy should be. \n",
    "4. The government's growth policy—what it does to accelerate or decelerate long-run economic growth—is surely the most important aspect of macroeconomic policy, Nothing matters more in the long run for the: quality of life in an economy than its long-run rate of economic growth. \n",
    "5. The other important branch of macroeconomic policy is the government’s stabilization policy to try to keep levels of production and employment fluctuating much below sustainable long-run trends.\n",
    "\n",
    "&nbsp;\n",
    "\n",
    "----"
   ]
  },
  {
   "cell_type": "markdown",
   "metadata": {},
   "source": [
    "#### <font color=\"008800\"> 1.1.7.1. Exercises </font>\n",
    "\n",
    "**Analytical Exercises**:\n",
    "\n",
    "1. What are the key differences between microeconomics and macroeconomics?\n",
    "2. Why is the rate of economic growth important—and a thing to be boosted by good government policy, rather than being left to its own devices?\n",
    "3. Why is the business cycle important—and a thing to be moderated by good government policy, rather than being left to its own devices?\n",
    "\n",
    "&nbsp;\n",
    "\n",
    "----\n",
    "\n",
    "**Data and Policy Exercises**:\n",
    "\n",
    "1. What was the rate of real GDP growth in the United States in 2017?\n",
    "2. What is the current unemployment rate?\n",
    "3. What is the current inflation rate?\n",
    "4. Roughly, what was the highest level that the U.S. inflation rate reached in the twentieth century? What was the highest peacetime unemployment rate?\n",
    "5. Roughly, how much higher is measured real GDP per worker today than it was in 1973?\n",
    "\n",
    "&nbsp;\n",
    "\n",
    "----\n",
    "\n",
    "**Doing the Exercises**:\n",
    "\n",
    "A word for the would-be wise: FRED—Federal Reserve Economic Data <http://fred.stlouisfed.org> at the Federal Reserve Bank of St. Louis. Key search terms: \"real GDP\", \"nonfarm payrolls\", \"inflation\", \"consumer price index\", \"unemployment rate\"...\n",
    "\n",
    "&nbsp;\n",
    "\n",
    "----"
   ]
  },
  {
   "cell_type": "markdown",
   "metadata": {},
   "source": [
    "&nbsp;\n",
    "\n",
    "## <font color=\"880000\">DeLong and Olney Macroeconomics 3rd Edition </font>\n",
    "\n",
    "<img src=\"https://tinyurl.com/20190119a-delong\" width=\"300\" style=\"float:right\" />\n",
    "\n",
    "### <font color=\"000088\">Catch Our Breath—Further Notes:</font>\n",
    "\n",
    "<br clear=\"all\" />\n",
    "\n",
    "----\n",
    "\n",
    "* Weblog Support <https://github.com/braddelong/Macroeconomics_3rd/blob/master/M3rdI.ipynb>\n",
    "* nbViewer <https://nbviewer.jupyter.org/github.com/braddelong/Macroeconomics_3rd/blob/master/M3rdI.ipynb>\n",
    "\n",
    "&nbsp;\n",
    "\n",
    "----"
   ]
  },
  {
   "cell_type": "markdown",
   "metadata": {},
   "source": [
    "#### <font color=\"000088\"> Directions for Making the Figure in Box I.a. What Is Macroeconomics?  </font>\n",
    "\n",
    "1. Surf over to FRED—Federal Reserve Economic Data—at: <https://research.stlouisfed.org/dashboard/38603>\n",
    "\n",
    "&nbsp;\n",
    "\n",
    "----"
   ]
  },
  {
   "cell_type": "markdown",
   "metadata": {},
   "source": [
    "#### <font color=\"000088\"> Directions for Making the Figure in Box 1.1.a. The Constant Flow of Economic News </font>\n",
    "\n",
    "1. Surf over to the Bloomberg News \"breaking economics new\" page: <https://www.bloomberg.com/markets/economics>\n",
    "2. Capture the screen\n",
    "3. Note the data and time\n",
    "4. No, I haven't found an easy way to get the list of most recent stories off of Bloomberg's aggregators these days...\n",
    "\n",
    "&nbsp;\n",
    "\n",
    "----"
   ]
  },
  {
   "cell_type": "markdown",
   "metadata": {},
   "source": [
    "#### <font color=\"000088\"> Directions for Making the Figure in Box 1.1.b. Economic Policy and Political Popularity: President Richard Nixon </font>\n",
    "\n",
    "1. Surf over to Wikimedia Commons: <https://commons.wikimedia.org/wiki/File:Nixon_edited_transcripts.jpg>\n",
    "2. Grab the image from the webpage\n",
    "3. Add credit\n",
    "\n",
    "&nbsp;\n",
    "\n",
    "----"
   ]
  },
  {
   "cell_type": "markdown",
   "metadata": {},
   "source": [
    "#### <font color=\"000088\"> Directions for Making the Figure in Box 1.1.c. Long-Run Measured Economic Growth: Sweden and Argentina, 1890-2017 </font>"
   ]
  },
  {
   "cell_type": "code",
   "execution_count": 5,
   "metadata": {},
   "outputs": [],
   "source": [
    "# Calculations for: Box 1.1.c. Long-Run Measured Economic Growth: Sweden and Argentina, 1890-2017\n",
    "# data previously downloaded\n",
    "# time series for measured real national product per capita for Sweden and Argentina\n",
    "# since 1890, plus source notes, accessible in the argentina_sweden_dict object for\n",
    "# later use, if needed...\n",
    "\n",
    "sourceURL = \"http://delong.typepad.com/2017-08-11-argentina-and-sweden-gdp-per-capita-1890-2015-from-gapminder.org.csv\"\n",
    "argentina_sweden_df = pd.read_csv(sourceURL, index_col = 0)\n",
    "\n",
    "argentina_sweden_dict = {}\n",
    "argentina_sweden_dict[\"df\"] = argentina_sweden_df\n",
    "argentina_sweden_dict[\"sourceURL\"] = sourceURL\n",
    "argentina_sweden_dict[\"sourceDescription\"] = \"Hans Rosling's Gapminder: http://gapminder.org\"   \n",
    "argentina_sweden_dict[\"sourceNotes\"] = \"From Gapminder World data page: http://www.gapminder.org/data/\""
   ]
  },
  {
   "cell_type": "code",
   "execution_count": 6,
   "metadata": {},
   "outputs": [
    {
     "data": {
      "text/plain": [
       "Text(0.5, 1.0, 'Swedish and Argentinian Economic Growth since 1890')"
      ]
     },
     "execution_count": 6,
     "metadata": {},
     "output_type": "execute_result"
    },
    {
     "data": {
      "image/png": "[encoded data removed]",
      "text/plain": [
       "<Figure size 432x288 with 1 Axes>"
      ]
     },
     "metadata": {
      "needs_background": "light"
     },
     "output_type": "display_data"
    }
   ],
   "source": [
    "argentina_sweden_df.plot()\n",
    "\n",
    "plt.ylim(0, )\n",
    "plt.xlabel(\"Year\", size = 10)\n",
    "plt.ylabel(\"Real GDP per Capita\", size = 10)\n",
    "plt.title(\"Swedish and Argentinian Economic Growth since 1890\", size = 20)"
   ]
  },
  {
   "cell_type": "code",
   "execution_count": 7,
   "metadata": {},
   "outputs": [
    {
     "data": {
      "text/plain": [
       "16.413893967093237"
      ]
     },
     "execution_count": 7,
     "metadata": {},
     "output_type": "execute_result"
    }
   ],
   "source": [
    "# Sweden's measured growth multiple over 1890-2015:\n",
    "\n",
    "argentina_sweden_df.Sweden[2015]/argentina_sweden_df.Sweden[1890]"
   ]
  },
  {
   "cell_type": "code",
   "execution_count": 8,
   "metadata": {},
   "outputs": [
    {
     "data": {
      "text/plain": [
       "3.3175210405508797"
      ]
     },
     "execution_count": 8,
     "metadata": {},
     "output_type": "execute_result"
    }
   ],
   "source": [
    "# Argentina's measured growth multiple over 1890-2015:\n",
    "\n",
    "argentina_sweden_df.Argentina[2015]/argentina_sweden_df.Argentina[1890]"
   ]
  },
  {
   "cell_type": "markdown",
   "metadata": {},
   "source": [
    "&nbsp;\n",
    "\n",
    "----"
   ]
  },
  {
   "cell_type": "markdown",
   "metadata": {},
   "source": [
    "#### <font color=\"000088\"> Directions for Making the Figure in Box 1.1.d. The American Business Cycle 1950-2017 </font>"
   ]
  },
  {
   "cell_type": "code",
   "execution_count": 9,
   "metadata": {},
   "outputs": [
    {
     "data": {
      "text/plain": [
       "{'df':                year  realgdp  potential gdp  businesscycle\n",
       " dateindex                                                 \n",
       " 1950-01-01  1950.00   2084.6         2120.1        -0.0169\n",
       " 1950-04-01  1950.25   2147.6         2147.3         0.0001\n",
       " 1950-07-01  1950.50   2230.4         2174.7         0.0253\n",
       " 1950-10-01  1950.75   2273.4         2202.6         0.0316\n",
       " 1951-01-01  1951.00   2304.5         2231.0         0.0324\n",
       " 1951-04-01  1951.25   2344.5         2260.9         0.0363\n",
       " 1951-07-01  1951.50   2392.8         2291.6         0.0432\n",
       " 1951-10-01  1951.75   2398.1         2323.0         0.0318\n",
       " 1952-01-01  1952.00   2423.5         2355.5         0.0285\n",
       " 1952-04-01  1952.25   2428.5         2389.3         0.0163\n",
       " 1952-07-01  1952.50   2446.1         2422.6         0.0097\n",
       " 1952-10-01  1952.75   2526.4         2454.8         0.0288\n",
       " 1953-01-01  1953.00   2573.4         2484.4         0.0352\n",
       " 1953-04-01  1953.25   2593.5         2510.5         0.0325\n",
       " 1953-07-01  1953.50   2578.9         2534.3         0.0174\n",
       " 1953-10-01  1953.75   2539.8         2556.0        -0.0064\n",
       " 1954-01-01  1954.00   2528.0         2574.6        -0.0183\n",
       " 1954-04-01  1954.25   2530.7         2591.4        -0.0237\n",
       " 1954-07-01  1954.50   2559.4         2607.1        -0.0185\n",
       " 1954-10-01  1954.75   2609.3         2622.4        -0.0050\n",
       " 1955-01-01  1955.00   2683.8         2638.8         0.0169\n",
       " 1955-04-01  1955.25   2727.5         2655.1         0.0269\n",
       " 1955-07-01  1955.50   2764.1         2671.6         0.0340\n",
       " 1955-10-01  1955.75   2780.8         2688.4         0.0338\n",
       " 1956-01-01  1956.00   2770.0         2705.7         0.0235\n",
       " 1956-04-01  1956.25   2792.9         2723.2         0.0253\n",
       " 1956-07-01  1956.50   2790.6         2741.4         0.0178\n",
       " 1956-10-01  1956.75   2836.2         2760.5         0.0271\n",
       " 1957-01-01  1957.00   2854.5         2780.9         0.0261\n",
       " 1957-04-01  1957.25   2848.2         2803.1         0.0160\n",
       " ...             ...      ...            ...            ...\n",
       " 2010-01-01  2010.00  14604.8        15406.4        -0.0534\n",
       " 2010-04-01  2010.25  14745.9        15439.9        -0.0460\n",
       " 2010-07-01  2010.50  14845.5        15473.4        -0.0414\n",
       " 2010-10-01  2010.75  14939.0        15508.2        -0.0374\n",
       " 2011-01-01  2011.00  14881.3        15549.0        -0.0439\n",
       " 2011-04-01  2011.25  14989.6        15591.9        -0.0394\n",
       " 2011-07-01  2011.50  15021.1        15637.2        -0.0402\n",
       " 2011-10-01  2011.75  15190.3        15684.9        -0.0320\n",
       " 2012-01-01  2012.00  15291.0        15734.5        -0.0286\n",
       " 2012-04-01  2012.25  15362.4        15787.0        -0.0273\n",
       " 2012-07-01  2012.50  15380.8        15841.8        -0.0295\n",
       " 2012-10-01  2012.75  15384.3        15898.6        -0.0329\n",
       " 2013-01-01  2013.00  15491.9        15957.4        -0.0296\n",
       " 2013-04-01  2013.25  15521.6        16017.8        -0.0315\n",
       " 2013-07-01  2013.50  15641.3        16079.7        -0.0276\n",
       " 2013-10-01  2013.75  15793.9        16142.8        -0.0219\n",
       " 2014-01-01  2014.00  15757.6        16206.5        -0.0281\n",
       " 2014-04-01  2014.25  15935.8        16272.1        -0.0209\n",
       " 2014-07-01  2014.50  16139.5        16338.6        -0.0123\n",
       " 2014-10-01  2014.75  16220.2        16405.7        -0.0114\n",
       " 2015-01-01  2015.00  16350.0        16473.1        -0.0075\n",
       " 2015-04-01  2015.25  16460.9        16540.2        -0.0048\n",
       " 2015-07-01  2015.50  16527.6        16607.0        -0.0048\n",
       " 2015-10-01  2015.75  16547.6        16673.3        -0.0076\n",
       " 2016-01-01  2016.00  16571.6        16738.0        -0.0100\n",
       " 2016-04-01  2016.25  16663.5        16801.3        -0.0082\n",
       " 2016-07-01  2016.50  16778.1        16864.3        -0.0051\n",
       " 2016-10-01  2016.75  16851.4        16927.7        -0.0045\n",
       " 2017-01-01  2017.00  16903.2        16992.2        -0.0053\n",
       " 2017-04-01  2017.25  17010.7        17058.2        -0.0028\n",
       " \n",
       " [270 rows x 4 columns],\n",
       " 'sourceURL': 'http://delong.typepad.com/2017-08-11-fred-real-gdp-potential-gdp-and-business-cycle.csv',\n",
       " 'sourceNotes': '',\n",
       " 'sourceDescription': ''}"
      ]
     },
     "execution_count": 9,
     "metadata": {},
     "output_type": "execute_result"
    }
   ],
   "source": [
    "# Calculations for: Figure 1.1.2.2(a) The American Business Cycle 1950-2017\n",
    "# data previously downloaded from FRED\n",
    "# time series for measured real national product, potential natioanal product,\n",
    "# and the business cycle for the U.S. since 1950, plus source notes, accessible \n",
    "# in the usbc_dict object for later use, if needed...\n",
    "\n",
    "sourceURL = 'http://delong.typepad.com/2017-08-11-fred-real-gdp-potential-gdp-and-business-cycle.csv'\n",
    "\n",
    "usbc_df = pd.read_csv(sourceURL, parse_dates = True, index_col = 0)\n",
    "\n",
    "usbc_dict = {}\n",
    "usbc_dict[\"df\"] = usbc_df\n",
    "usbc_dict[\"sourceURL\"] = sourceURL\n",
    "usbc_dict[\"sourceNotes\"] = \"\"\n",
    "usbc_dict[\"sourceDescription\"] = \"\"\n",
    "\n",
    "usbc_dict"
   ]
  },
  {
   "cell_type": "code",
   "execution_count": 10,
   "metadata": {},
   "outputs": [
    {
     "data": {
      "text/plain": [
       "Text(0.5, 1.0, 'U.S. Actual and Potential GDP, 1949-Present')"
      ]
     },
     "execution_count": 10,
     "metadata": {},
     "output_type": "execute_result"
    },
    {
     "data": {
      "image/png": "[encoded data removed]",
      "text/plain": [
       "<Figure size 432x288 with 1 Axes>"
      ]
     },
     "metadata": {
      "needs_background": "light"
     },
     "output_type": "display_data"
    }
   ],
   "source": [
    "business_cycle = usbc_df.businesscycle\n",
    "\n",
    "usbc_df.plot()\n",
    "plt.ylim(0, )\n",
    "plt.xlabel(\"Year\", size = 15)\n",
    "plt.ylabel(\"Real GDP (Trillions)\", size = 10)\n",
    "plt.title(\"U.S. Actual and Potential GDP, 1949-Present\", size = 20)"
   ]
  },
  {
   "cell_type": "code",
   "execution_count": 11,
   "metadata": {},
   "outputs": [
    {
     "data": {
      "text/plain": [
       "<matplotlib.lines.Line2D at 0x1c1e932a58>"
      ]
     },
     "execution_count": 11,
     "metadata": {},
     "output_type": "execute_result"
    },
    {
     "data": {
      "image/png": "[encoded data removed]",
      "text/plain": [
       "<Figure size 432x288 with 1 Axes>"
      ]
     },
     "metadata": {
      "needs_background": "light"
     },
     "output_type": "display_data"
    }
   ],
   "source": [
    "business_cycle.plot()\n",
    "\n",
    "plt.xlabel(\"Year\", size = 15)\n",
    "plt.ylabel(\"Deviation of Real GDP from Potential Output\", size = 10)\n",
    "plt.title(\"The United States Business Cycle, 1949-Present\", size = 20)\n",
    "plt.axhline(0, color = \"black\")"
   ]
  },
  {
   "cell_type": "markdown",
   "metadata": {},
   "source": [
    "&nbsp;\n",
    "\n",
    "----"
   ]
  }
 ],
 "metadata": {
  "kernelspec": {
   "display_name": "Python 3",
   "language": "python",
   "name": "python3"
  },
  "language_info": {
   "codemirror_mode": {
    "name": "ipython",
    "version": 3
   },
   "file_extension": ".py",
   "mimetype": "text/x-python",
   "name": "python",
   "nbconvert_exporter": "python",
   "pygments_lexer": "ipython3",
   "version": "3.6.7"
  }
 },
 "nbformat": 4,
 "nbformat_minor": 4
}
